{
  "cells": [
    {
      "cell_type": "markdown",
      "metadata": {
        "id": "dQwMCfe2jl1d"
      },
      "source": [
        "# Introduction\n",
        "\n",
        "Dans ce TP, vous disposez d’un jeu de données sur la maintenance prédictive. L’idée est de comprendre :\n",
        "\n",
        "  - Quelles sont les colonnes réellement utiles pour prédire les pannes ?\n",
        "  - Comment créer de nouvelles caractéristiques (features) qui améliorent la - pertinence de votre futur modèle ?\n",
        "  - Quelles colonnes risquent de fausser la prédiction (fuites de données, données non pertinentes, identifiants, etc.) ?\n",
        "\n",
        "À la fin, vous aurez un DataFrame nettoyé et enrichi, prêt à être utilisé pour l’entraînement d’un modèle de Machine Learning (dans un TP ultérieur)."
      ]
    },
    {
      "cell_type": "markdown",
      "metadata": {
        "id": "CPb6YbNpjytd"
      },
      "source": [
        "# Importation des librairies et chargement des données"
      ]
    },
    {
      "cell_type": "code",
      "execution_count": 12,
      "metadata": {
        "_cell_guid": "b1076dfc-b9ad-4769-8c92-a6c4dae69d19",
        "_uuid": "8f2839f25d086af736a60e9eeb907d3b93b6e0e5",
        "execution": {
          "iopub.execute_input": "2024-09-14T03:00:36.482899Z",
          "iopub.status.busy": "2024-09-14T03:00:36.482273Z",
          "iopub.status.idle": "2024-09-14T03:00:37.408103Z",
          "shell.execute_reply": "2024-09-14T03:00:37.406631Z",
          "shell.execute_reply.started": "2024-09-14T03:00:36.482791Z"
        },
        "id": "9asISnreX92F",
        "trusted": true
      },
      "outputs": [],
      "source": [
        "import numpy as np \n",
        "import pandas as pd \n",
        "import seaborn as sns\n",
        "import matplotlib.pyplot as plt\n",
        "\n",
        "\n",
        "url = \"https://raw.githubusercontent.com/DlDI/predective-maintenance/refs/heads/main/predictive_maintenance.csv\"\n",
        "\n",
        "\n",
        "# You can write up to 20GB to the current directory (/kaggle/working/) that gets preserved as output when you create a version using \"Save & Run All\"\n",
        "# You can also write temporary files to /kaggle/temp/, but they won't be saved outside of the current session\n"
      ]
    },
    {
      "cell_type": "markdown",
      "metadata": {},
      "source": [
        "# À propos du Dataset\n",
        "\n",
        "Ce dataset est une simulation représentant des cas de maintenance prédictive en industrie. Il contient des données sur des machines et leurs conditions de fonctionnement, permettant d’analyser les causes de panne.\n",
        "\n",
        "Description des colonnes :\n",
        "\n",
        "    UID : Identifiant unique (de 1 à 10 000).\n",
        "\n",
        "    productID : Code produit avec une lettre L, M ou H indiquant la qualité (L = basse, M = moyenne, H = haute).\n",
        "\n",
        "    air temperature [K] : Température ambiante autour de 300 K, avec de petites variations.\n",
        "\n",
        "    process temperature [K] : Température du processus, toujours 10 K de plus que la température de l’air.\n",
        "\n",
        "    rotational speed [rpm] : Vitesse de rotation basée sur une puissance de 2860 W, avec des fluctuations.\n",
        "\n",
        "    torque [Nm] : Moyenne de 40 Nm, sans valeurs négatives.\n",
        "\n",
        "    tool wear [min] : Usure de l’outil, variant selon la qualité du produit \n",
        "\n",
        "    machine failure : Indique si la machine est en panne.\n",
        "\n",
        "    Target : Indique si la machine est en panne (Oui/Non).\n",
        "    \n",
        "    Failure Type : Indique le type de panne.\n",
        "\n",
        "⚠ Certaines colonnes contiennent des informations sur l’état de la machine et ne doivent pas être utilisées comme entrées dans un modèle prédictif. Les inclure fausserait les résultats en apportant une information que l’on cherche justement à prédire."
      ]
    },
    {
      "cell_type": "code",
      "execution_count": 23,
      "metadata": {},
      "outputs": [],
      "source": [
        "df = pd.read_csv(url)"
      ]
    },
    {
      "cell_type": "markdown",
      "metadata": {},
      "source": [
        "## Exploration des Données\n",
        "\n",
        "Q1 - Affichez les 9 premières lignes du dataset. Quelle est la taille (nombre de lignes et de colonnes) du dataset ?\n",
        "\n",
        "Indices : https://pandas.pydata.org/docs/reference/api/pandas.DataFrame.head.html#pandas-dataframe-head /\n",
        "https://pandas.pydata.org/docs/reference/api/pandas.DataFrame.shape.html#pandas-dataframe-shape \n",
        "\n"
      ]
    },
    {
      "cell_type": "code",
      "execution_count": 13,
      "metadata": {
        "id": "o0wWfK7Uj6AR"
      },
      "outputs": [],
      "source": [
        "df = pd.read_csv(url)\n",
        "\n",
        "# Code pour afficher les 5 premières lignes du tableau\n",
        "\n"
      ]
    },
    {
      "cell_type": "code",
      "execution_count": 14,
      "metadata": {},
      "outputs": [],
      "source": [
        "# code pour la taille du tableau\n"
      ]
    },
    {
      "cell_type": "markdown",
      "metadata": {},
      "source": [
        "Réponse  : "
      ]
    },
    {
      "cell_type": "markdown",
      "metadata": {},
      "source": [
        "Q2 - Y a-t-il des valeurs manquantes dans les données ? Si oui, dans quelles colonnes et combien ?\n",
        "\n",
        "indice : https://pandas.pydata.org/docs/reference/api/pandas.DataFrame.isnull.html#pandas-dataframe-isnull / https://pandas.pydata.org/docs/reference/api/pandas.DataFrame.sum.html#pandas.DataFrame.sum\n",
        "\n",
        " \n"
      ]
    },
    {
      "cell_type": "code",
      "execution_count": 15,
      "metadata": {},
      "outputs": [],
      "source": [
        "# Code ici "
      ]
    },
    {
      "cell_type": "markdown",
      "metadata": {},
      "source": [
        "Réponse  : "
      ]
    },
    {
      "cell_type": "markdown",
      "metadata": {},
      "source": [
        "## Analyse Statistique\n",
        "\n",
        "Q3 - Quelle est la moyenne, la médiane et l’écart-type des températures (Air et Process) pour chaque type de machine (M, L et H) ?\n",
        "\n",
        "indice : https://pandas.pydata.org/docs/reference/api/pandas.core.groupby.DataFrameGroupBy.agg.html#pandas-core-groupby-dataframegroupby-agg "
      ]
    },
    {
      "cell_type": "code",
      "execution_count": 16,
      "metadata": {},
      "outputs": [],
      "source": [
        "# Code Ici"
      ]
    },
    {
      "cell_type": "markdown",
      "metadata": {},
      "source": [
        "Réponse  : "
      ]
    },
    {
      "cell_type": "markdown",
      "metadata": {},
      "source": [
        "Q4 - Calculer la vitesse moyenne de rotation et le couple moyen par type de machine\n",
        "\n",
        "indice : https://pandas.pydata.org/docs/reference/api/pandas.core.groupby.DataFrameGroupBy.mean.html#pandas-core-groupby-dataframegroupby-mean "
      ]
    },
    {
      "cell_type": "code",
      "execution_count": 17,
      "metadata": {},
      "outputs": [],
      "source": [
        "# Code ici"
      ]
    },
    {
      "cell_type": "markdown",
      "metadata": {},
      "source": [
        "Réponse  : "
      ]
    },
    {
      "cell_type": "markdown",
      "metadata": {},
      "source": [
        "# Visualisation des Données\n",
        "\n",
        "[Matplotlib](https://matplotlib.org/stable/) est une bibliothèque de visualisation en Python permettant de créer des graphiques statiques, interactifs et animés. Elle est couramment utilisée pour analyser des données sous forme de courbes, histogrammes ou nuages de points.\n",
        "\n",
        "[Seaborn](https://seaborn.pydata.org/index.html) est une bibliothèque de visualisation basée sur Matplotlib, conçue pour simplifier la création de graphiques statistiques élégants et informatifs.\n",
        "\n",
        "\n",
        "Q5 - Tracer un histogramme des températures de l'air et du processus\n",
        "\n",
        "indice : https://seaborn.pydata.org/generated/seaborn.histplot.html#seaborn-histplot"
      ]
    },
    {
      "cell_type": "code",
      "execution_count": 18,
      "metadata": {},
      "outputs": [],
      "source": [
        "# Code ici"
      ]
    },
    {
      "cell_type": "markdown",
      "metadata": {},
      "source": [
        "Q6 - Tracer un nuage de points entre la vitesse de rotation et le couple, Interprétez ce graphique.\n",
        "\n",
        "indice : https://seaborn.pydata.org/generated/seaborn.scatterplot.html#seaborn-scatterplot"
      ]
    },
    {
      "cell_type": "code",
      "execution_count": 19,
      "metadata": {},
      "outputs": [],
      "source": [
        "# Code ici"
      ]
    },
    {
      "cell_type": "markdown",
      "metadata": {},
      "source": [
        "### Matrice de Corrélation \n",
        "\n",
        "En **apprentissage automatique**, la matrice de corrélation permet d’identifier les **redondances entre variables**, optimisant ainsi la sélection des attributs et améliorant la généralisation des modèles. Elle est essentielle pour éviter la colinéarité, qui peut biaiser les modèles de régression linéaire et compromettre leur stabilité.\n",
        "\n",
        "Elle facilite également **l’ingénierie des features**, en suggérant la fusion ou la transformation de variables corrélées pour en extraire des descripteurs plus pertinents. Enfin, elle est utilisée pour la réduction de dimensionnalité, permettant d’alléger les modèles et d’améliorer leur efficacité computationnelle.\n",
        "\n",
        "Pour approfondir : https://www.simplilearn.com/tutorials/machine-learning-tutorial/feature-selection-in-machine-learning"
      ]
    },
    {
      "cell_type": "markdown",
      "metadata": {},
      "source": [
        "Q7 - Créez une matrice de corrélation entre toutes les variables numériques du dataset et affichez-la\n",
        "\n",
        "Indice : https://pandas.pydata.org/docs/reference/api/pandas.DataFrame.corr.html#pandas-dataframe-corr / https://seaborn.pydata.org/generated/seaborn.heatmap.html#seaborn-heatmap"
      ]
    },
    {
      "cell_type": "code",
      "execution_count": null,
      "metadata": {},
      "outputs": [],
      "source": []
    },
    {
      "cell_type": "markdown",
      "metadata": {},
      "source": [
        "Q8 - Quelle analyse pouvez-vous tirer de la matrice de corrélation ?\n",
        "\n",
        "- Y a-t-il des variables redondantes qu’il serait utile de supprimer ?\n",
        "- Peut-on créer de nouvelles features à partir de variables fortement corrélées ?\n",
        "- Certaines corrélations peuvent-elles influencer la prédiction des défaillances ?"
      ]
    },
    {
      "cell_type": "markdown",
      "metadata": {},
      "source": [
        "### Réponse  : "
      ]
    },
    {
      "cell_type": "markdown",
      "metadata": {},
      "source": [
        "## Création de Nouvelles Features\n",
        "\n",
        "Q9 - Créer une colonne pour l’écart entre température du processus et température ambiante en degrés Celsius. puis créer une colonne pour la puissance mécanique\n",
        "\n",
        "Indice : Puissance=Couple (Nm)×Vitesse de rotation (rpm)"
      ]
    },
    {
      "cell_type": "code",
      "execution_count": 20,
      "metadata": {},
      "outputs": [],
      "source": [
        "# Code Ici"
      ]
    },
    {
      "cell_type": "markdown",
      "metadata": {},
      "source": [
        "## Analyse des Défaillances\n",
        "\n",
        "Q10 - Comparaison des machines en panne et en bon état :  \n",
        "- Comptez combien de machines sont en panne et combien sont en bon état.\n",
        "- Calculez la proportion de machines en panne\n",
        "- Comparez les statistiques des machines en panne vs. en bon état.\n",
        "\n"
      ]
    },
    {
      "cell_type": "code",
      "execution_count": 21,
      "metadata": {},
      "outputs": [],
      "source": [
        "# Code ici\n"
      ]
    },
    {
      "cell_type": "markdown",
      "metadata": {},
      "source": [
        "Quelles variables semblent influencer les pannes ?"
      ]
    },
    {
      "cell_type": "markdown",
      "metadata": {},
      "source": []
    }
  ],
  "metadata": {
    "colab": {
      "provenance": []
    },
    "kaggle": {
      "accelerator": "none",
      "dataSources": [
        {
          "datasetId": 1697740,
          "sourceId": 2781015,
          "sourceType": "datasetVersion"
        }
      ],
      "dockerImageVersionId": 30761,
      "isGpuEnabled": false,
      "isInternetEnabled": true,
      "language": "python",
      "sourceType": "notebook"
    },
    "kernelspec": {
      "display_name": "Python 3",
      "language": "python",
      "name": "python3"
    },
    "language_info": {
      "codemirror_mode": {
        "name": "ipython",
        "version": 3
      },
      "file_extension": ".py",
      "mimetype": "text/x-python",
      "name": "python",
      "nbconvert_exporter": "python",
      "pygments_lexer": "ipython3",
      "version": "3.12.6"
    }
  },
  "nbformat": 4,
  "nbformat_minor": 0
}
